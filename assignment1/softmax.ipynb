{
 "cells": [
  {
   "cell_type": "markdown",
   "metadata": {},
   "source": [
    "# Softmax exercise\n",
    "\n",
    "*Complete and hand in this completed worksheet (including its outputs and any supporting code outside of the worksheet) with your assignment submission. For more details see the [assignments page](http://vision.stanford.edu/teaching/cs231n/assignments.html) on the course website.*\n",
    "\n",
    "This exercise is analogous to the SVM exercise. You will:\n",
    "\n",
    "- implement a fully-vectorized **loss function** for the Softmax classifier\n",
    "- implement the fully-vectorized expression for its **analytic gradient**\n",
    "- **check your implementation** with numerical gradient\n",
    "- use a validation set to **tune the learning rate and regularization** strength\n",
    "- **optimize** the loss function with **SGD**\n",
    "- **visualize** the final learned weights\n"
   ]
  },
  {
   "cell_type": "code",
   "execution_count": 1,
   "metadata": {},
   "outputs": [],
   "source": [
    "import random\n",
    "import numpy as np\n",
    "from cs231n.data_utils import load_CIFAR10\n",
    "import matplotlib.pyplot as plt\n",
    "\n",
    "from __future__ import print_function\n",
    "\n",
    "%matplotlib inline\n",
    "plt.rcParams['figure.figsize'] = (10.0, 8.0) # set default size of plots\n",
    "plt.rcParams['image.interpolation'] = 'nearest'\n",
    "plt.rcParams['image.cmap'] = 'gray'\n",
    "\n",
    "# for auto-reloading extenrnal modules\n",
    "# see http://stackoverflow.com/questions/1907993/autoreload-of-modules-in-ipython\n",
    "%load_ext autoreload\n",
    "%autoreload 2"
   ]
  },
  {
   "cell_type": "code",
   "execution_count": 2,
   "metadata": {},
   "outputs": [
    {
     "name": "stdout",
     "output_type": "stream",
     "text": [
      "Train data shape:  (49000, 3073)\n",
      "Train labels shape:  (49000,)\n",
      "Validation data shape:  (1000, 3073)\n",
      "Validation labels shape:  (1000,)\n",
      "Test data shape:  (1000, 3073)\n",
      "Test labels shape:  (1000,)\n",
      "dev data shape:  (500, 3073)\n",
      "dev labels shape:  (500,)\n"
     ]
    }
   ],
   "source": [
    "def get_CIFAR10_data(num_training=49000, num_validation=1000, num_test=1000, num_dev=500):\n",
    "    \"\"\"\n",
    "    Load the CIFAR-10 dataset from disk and perform preprocessing to prepare\n",
    "    it for the linear classifier. These are the same steps as we used for the\n",
    "    SVM, but condensed to a single function.  \n",
    "    \"\"\"\n",
    "    # Load the raw CIFAR-10 data\n",
    "    cifar10_dir = 'cs231n/datasets/cifar-10-batches-py'\n",
    "    \n",
    "    X_train, y_train, X_test, y_test = load_CIFAR10(cifar10_dir)\n",
    "    \n",
    "    # subsample the data\n",
    "    mask = list(range(num_training, num_training + num_validation))\n",
    "    X_val = X_train[mask]\n",
    "    y_val = y_train[mask]\n",
    "    mask = list(range(num_training))\n",
    "    X_train = X_train[mask]\n",
    "    y_train = y_train[mask]\n",
    "    mask = list(range(num_test))\n",
    "    X_test = X_test[mask]\n",
    "    y_test = y_test[mask]\n",
    "    mask = np.random.choice(num_training, num_dev, replace=False)\n",
    "    X_dev = X_train[mask]\n",
    "    y_dev = y_train[mask]\n",
    "    \n",
    "    # Preprocessing: reshape the image data into rows\n",
    "    X_train = np.reshape(X_train, (X_train.shape[0], -1))\n",
    "    X_val = np.reshape(X_val, (X_val.shape[0], -1))\n",
    "    X_test = np.reshape(X_test, (X_test.shape[0], -1))\n",
    "    X_dev = np.reshape(X_dev, (X_dev.shape[0], -1))\n",
    "    \n",
    "    # Normalize the data: subtract the mean image\n",
    "    mean_image = np.mean(X_train, axis = 0)\n",
    "    X_train -= mean_image\n",
    "    X_val -= mean_image\n",
    "    X_test -= mean_image\n",
    "    X_dev -= mean_image\n",
    "    \n",
    "    # add bias dimension and transform into columns\n",
    "    X_train = np.hstack([X_train, np.ones((X_train.shape[0], 1))])\n",
    "    X_val = np.hstack([X_val, np.ones((X_val.shape[0], 1))])\n",
    "    X_test = np.hstack([X_test, np.ones((X_test.shape[0], 1))])\n",
    "    X_dev = np.hstack([X_dev, np.ones((X_dev.shape[0], 1))])\n",
    "    \n",
    "    return X_train, y_train, X_val, y_val, X_test, y_test, X_dev, y_dev\n",
    "\n",
    "\n",
    "# Cleaning up variables to prevent loading data multiple times (which may cause memory issue)\n",
    "try:\n",
    "   del X_train, y_train\n",
    "   del X_test, y_test\n",
    "   print('Clear previously loaded data.')\n",
    "except:\n",
    "   pass\n",
    "\n",
    "# Invoke the above function to get our data.\n",
    "X_train, y_train, X_val, y_val, X_test, y_test, X_dev, y_dev = get_CIFAR10_data()\n",
    "print('Train data shape: ', X_train.shape)\n",
    "print('Train labels shape: ', y_train.shape)\n",
    "print('Validation data shape: ', X_val.shape)\n",
    "print('Validation labels shape: ', y_val.shape)\n",
    "print('Test data shape: ', X_test.shape)\n",
    "print('Test labels shape: ', y_test.shape)\n",
    "print('dev data shape: ', X_dev.shape)\n",
    "print('dev labels shape: ', y_dev.shape)"
   ]
  },
  {
   "cell_type": "markdown",
   "metadata": {},
   "source": [
    "## Softmax Classifier\n",
    "\n",
    "Your code for this section will all be written inside **cs231n/classifiers/softmax.py**. \n"
   ]
  },
  {
   "cell_type": "code",
   "execution_count": 6,
   "metadata": {},
   "outputs": [
    {
     "name": "stdout",
     "output_type": "stream",
     "text": [
      "loss: 1.105735\n",
      "sanity check: 2.302585\n"
     ]
    }
   ],
   "source": [
    "# First implement the naive softmax loss function with nested loops.\n",
    "# Open the file cs231n/classifiers/softmax.py and implement the\n",
    "# softmax_loss_naive function.\n",
    "\n",
    "from cs231n.classifiers.softmax import softmax_loss_naive\n",
    "import time\n",
    "\n",
    "# Generate a random softmax weight matrix and use it to compute the loss.\n",
    "W = np.random.randn(3073, 10) * 0.0001\n",
    "loss, grad = softmax_loss_naive(W, X_dev, y_dev, 0.0)\n",
    "\n",
    "# As a rough sanity check, our loss should be something close to -log(0.1).\n",
    "print('loss: %f' % loss)\n",
    "print('sanity check: %f' % (-np.log(0.1)))"
   ]
  },
  {
   "cell_type": "markdown",
   "metadata": {},
   "source": [
    "## Inline Question 1:\n",
    "Why do we expect our loss to be close to -log(0.1)? Explain briefly.**\n",
    "\n",
    "**Your answer:** *the dataset has 10 categories, and at initialization all scores for each category are approximately equal. So according to math, the loss would be -log(1/10)*\n"
   ]
  },
  {
   "cell_type": "code",
   "execution_count": 13,
   "metadata": {},
   "outputs": [
    {
     "name": "stdout",
     "output_type": "stream",
     "text": [
      "numerical: 2.932487 analytic: 3.464268, relative error: 8.313302e-02\n",
      "numerical: -0.112533 analytic: -2.621347, relative error: 9.176755e-01\n",
      "numerical: 2.045539 analytic: 4.358388, relative error: 3.611610e-01\n",
      "numerical: 3.420480 analytic: 6.042201, relative error: 2.770590e-01\n",
      "numerical: 1.826530 analytic: 3.922456, relative error: 3.645732e-01\n",
      "numerical: 1.454958 analytic: 2.569698, relative error: 2.769778e-01\n",
      "numerical: 0.913387 analytic: 1.898924, relative error: 3.504365e-01\n",
      "numerical: 0.592527 analytic: 1.100702, relative error: 3.001222e-01\n",
      "numerical: -0.393587 analytic: -0.504461, relative error: 1.234605e-01\n",
      "numerical: -0.147883 analytic: -1.721401, relative error: 8.417761e-01\n",
      "numerical: 0.239417 analytic: 0.517756, relative error: 3.676024e-01\n",
      "numerical: -0.313711 analytic: -1.235474, relative error: 5.949991e-01\n",
      "numerical: -1.537358 analytic: -2.254409, relative error: 1.891073e-01\n",
      "numerical: -1.761084 analytic: -0.164484, relative error: 8.291576e-01\n",
      "numerical: 0.104921 analytic: 0.156731, relative error: 1.980114e-01\n",
      "numerical: 1.386209 analytic: 2.616617, relative error: 3.073848e-01\n",
      "numerical: 1.677770 analytic: 3.337021, relative error: 3.308714e-01\n",
      "numerical: 1.330729 analytic: 2.328054, relative error: 2.725840e-01\n",
      "numerical: 1.968574 analytic: 3.527160, relative error: 2.835992e-01\n",
      "numerical: 2.321390 analytic: 4.026673, relative error: 2.686305e-01\n"
     ]
    }
   ],
   "source": [
    "# Complete the implementation of softmax_loss_naive and implement a (naive)\n",
    "# version of the gradient that uses nested loops.\n",
    "loss, grad = softmax_loss_naive(W, X_dev, y_dev, 0.0)\n",
    "\n",
    "# As we did for the SVM, use numeric gradient checking as a debugging tool.\n",
    "# The numeric gradient should be close to the analytic gradient.\n",
    "from cs231n.gradient_check import grad_check_sparse\n",
    "f = lambda w: softmax_loss_naive(w, X_dev, y_dev, 0.0)[0]\n",
    "grad_numerical = grad_check_sparse(f, W, grad, 10)\n",
    "\n",
    "# similar to SVM case, do another gradient check with regularization\n",
    "loss, grad = softmax_loss_naive(W, X_dev, y_dev, 5e1)\n",
    "f = lambda w: softmax_loss_naive(w, X_dev, y_dev, 5e1)[0]\n",
    "grad_numerical = grad_check_sparse(f, W, grad, 10)"
   ]
  },
  {
   "cell_type": "code",
   "execution_count": 24,
   "metadata": {},
   "outputs": [
    {
     "name": "stdout",
     "output_type": "stream",
     "text": [
      "naive loss: 2.368658e+00 computed in 0.109455s\n",
      "(500,)\n",
      "(500,)\n",
      "vectorized loss: 2.368658e+00 computed in 0.003891s\n",
      "Loss difference: 0.000000\n",
      "Gradient difference: 0.000000\n"
     ]
    }
   ],
   "source": [
    "# Now that we have a naive implementation of the softmax loss function and its gradient,\n",
    "# implement a vectorized version in softmax_loss_vectorized.\n",
    "# The two versions should compute the same results, but the vectorized version should be\n",
    "# much faster.\n",
    "tic = time.time()\n",
    "loss_naive, grad_naive = softmax_loss_naive(W, X_dev, y_dev, 0.000005)\n",
    "toc = time.time()\n",
    "print('naive loss: %e computed in %fs' % (loss_naive, toc - tic))\n",
    "\n",
    "from cs231n.classifiers.softmax import softmax_loss_vectorized\n",
    "tic = time.time()\n",
    "loss_vectorized, grad_vectorized = softmax_loss_vectorized(W, X_dev, y_dev, 0.000005)\n",
    "toc = time.time()\n",
    "print('vectorized loss: %e computed in %fs' % (loss_vectorized, toc - tic))\n",
    "\n",
    "# As we did for the SVM, we use the Frobenius norm to compare the two versions\n",
    "# of the gradient.\n",
    "grad_difference = np.linalg.norm(grad_naive - grad_vectorized, ord='fro')\n",
    "print('Loss difference: %f' % np.abs(loss_naive - loss_vectorized))\n",
    "print('Gradient difference: %f' % grad_difference)"
   ]
  },
  {
   "cell_type": "code",
   "execution_count": 27,
   "metadata": {},
   "outputs": [
    {
     "name": "stdout",
     "output_type": "stream",
     "text": [
      "training accuracy : 0.231469\n",
      "validation accuracy : 0.236000\n",
      "training accuracy : 0.283755\n",
      "validation accuracy : 0.285000\n",
      "training accuracy : 0.336286\n",
      "validation accuracy : 0.348000\n",
      "training accuracy : 0.328959\n",
      "validation accuracy : 0.341000\n",
      "training accuracy : 0.308449\n",
      "validation accuracy : 0.324000\n",
      "training accuracy : 0.270939\n",
      "validation accuracy : 0.293000\n",
      "training accuracy : 0.264245\n",
      "validation accuracy : 0.280000\n",
      "training accuracy : 0.269388\n",
      "validation accuracy : 0.262000\n",
      "training accuracy : 0.360551\n",
      "validation accuracy : 0.376000\n",
      "training accuracy : 0.352224\n",
      "validation accuracy : 0.365000\n",
      "training accuracy : 0.329878\n",
      "validation accuracy : 0.338000\n",
      "training accuracy : 0.308449\n",
      "validation accuracy : 0.329000\n",
      "training accuracy : 0.265776\n",
      "validation accuracy : 0.277000\n",
      "training accuracy : 0.258163\n",
      "validation accuracy : 0.271000\n",
      "training accuracy : 0.312531\n",
      "validation accuracy : 0.320000\n",
      "training accuracy : 0.374020\n",
      "validation accuracy : 0.390000\n",
      "training accuracy : 0.349000\n",
      "validation accuracy : 0.357000\n",
      "training accuracy : 0.325061\n",
      "validation accuracy : 0.344000\n",
      "training accuracy : 0.302224\n",
      "validation accuracy : 0.321000\n",
      "training accuracy : 0.277694\n",
      "validation accuracy : 0.281000\n",
      "training accuracy : 0.241020\n",
      "validation accuracy : 0.254000\n",
      "training accuracy : 0.380857\n",
      "validation accuracy : 0.397000\n",
      "training accuracy : 0.369041\n",
      "validation accuracy : 0.374000\n",
      "training accuracy : 0.347102\n",
      "validation accuracy : 0.358000\n",
      "training accuracy : 0.321531\n",
      "validation accuracy : 0.330000\n",
      "training accuracy : 0.310653\n",
      "validation accuracy : 0.318000\n",
      "training accuracy : 0.247429\n",
      "validation accuracy : 0.268000\n",
      "training accuracy : 0.237980\n",
      "validation accuracy : 0.235000\n",
      "training accuracy : 0.405449\n",
      "validation accuracy : 0.403000\n",
      "training accuracy : 0.361306\n",
      "validation accuracy : 0.372000\n",
      "training accuracy : 0.346041\n",
      "validation accuracy : 0.363000\n",
      "training accuracy : 0.317776\n",
      "validation accuracy : 0.338000\n",
      "training accuracy : 0.304878\n",
      "validation accuracy : 0.319000\n",
      "training accuracy : 0.229184\n",
      "validation accuracy : 0.239000\n",
      "training accuracy : 0.218633\n",
      "validation accuracy : 0.220000\n",
      "lr 5.000000e-08 reg 1.000000e+03 train accuracy: 0.231469 val accuracy: 0.236000\n",
      "lr 5.000000e-08 reg 1.000000e+04 train accuracy: 0.283755 val accuracy: 0.285000\n",
      "lr 5.000000e-08 reg 2.500000e+04 train accuracy: 0.336286 val accuracy: 0.348000\n",
      "lr 5.000000e-08 reg 5.000000e+04 train accuracy: 0.328959 val accuracy: 0.341000\n",
      "lr 5.000000e-08 reg 1.000000e+05 train accuracy: 0.308449 val accuracy: 0.324000\n",
      "lr 5.000000e-08 reg 5.000000e+05 train accuracy: 0.270939 val accuracy: 0.293000\n",
      "lr 5.000000e-08 reg 1.000000e+06 train accuracy: 0.264245 val accuracy: 0.280000\n",
      "lr 1.000000e-07 reg 1.000000e+03 train accuracy: 0.269388 val accuracy: 0.262000\n",
      "lr 1.000000e-07 reg 1.000000e+04 train accuracy: 0.360551 val accuracy: 0.376000\n",
      "lr 1.000000e-07 reg 2.500000e+04 train accuracy: 0.352224 val accuracy: 0.365000\n",
      "lr 1.000000e-07 reg 5.000000e+04 train accuracy: 0.329878 val accuracy: 0.338000\n",
      "lr 1.000000e-07 reg 1.000000e+05 train accuracy: 0.308449 val accuracy: 0.329000\n",
      "lr 1.000000e-07 reg 5.000000e+05 train accuracy: 0.265776 val accuracy: 0.277000\n",
      "lr 1.000000e-07 reg 1.000000e+06 train accuracy: 0.258163 val accuracy: 0.271000\n",
      "lr 2.000000e-07 reg 1.000000e+03 train accuracy: 0.312531 val accuracy: 0.320000\n",
      "lr 2.000000e-07 reg 1.000000e+04 train accuracy: 0.374020 val accuracy: 0.390000\n",
      "lr 2.000000e-07 reg 2.500000e+04 train accuracy: 0.349000 val accuracy: 0.357000\n",
      "lr 2.000000e-07 reg 5.000000e+04 train accuracy: 0.325061 val accuracy: 0.344000\n",
      "lr 2.000000e-07 reg 1.000000e+05 train accuracy: 0.302224 val accuracy: 0.321000\n",
      "lr 2.000000e-07 reg 5.000000e+05 train accuracy: 0.277694 val accuracy: 0.281000\n",
      "lr 2.000000e-07 reg 1.000000e+06 train accuracy: 0.241020 val accuracy: 0.254000\n",
      "lr 5.000000e-07 reg 1.000000e+03 train accuracy: 0.380857 val accuracy: 0.397000\n",
      "lr 5.000000e-07 reg 1.000000e+04 train accuracy: 0.369041 val accuracy: 0.374000\n",
      "lr 5.000000e-07 reg 2.500000e+04 train accuracy: 0.347102 val accuracy: 0.358000\n",
      "lr 5.000000e-07 reg 5.000000e+04 train accuracy: 0.321531 val accuracy: 0.330000\n",
      "lr 5.000000e-07 reg 1.000000e+05 train accuracy: 0.310653 val accuracy: 0.318000\n",
      "lr 5.000000e-07 reg 5.000000e+05 train accuracy: 0.247429 val accuracy: 0.268000\n",
      "lr 5.000000e-07 reg 1.000000e+06 train accuracy: 0.237980 val accuracy: 0.235000\n",
      "lr 1.000000e-06 reg 1.000000e+03 train accuracy: 0.405449 val accuracy: 0.403000\n",
      "lr 1.000000e-06 reg 1.000000e+04 train accuracy: 0.361306 val accuracy: 0.372000\n",
      "lr 1.000000e-06 reg 2.500000e+04 train accuracy: 0.346041 val accuracy: 0.363000\n",
      "lr 1.000000e-06 reg 5.000000e+04 train accuracy: 0.317776 val accuracy: 0.338000\n",
      "lr 1.000000e-06 reg 1.000000e+05 train accuracy: 0.304878 val accuracy: 0.319000\n",
      "lr 1.000000e-06 reg 5.000000e+05 train accuracy: 0.229184 val accuracy: 0.239000\n",
      "lr 1.000000e-06 reg 1.000000e+06 train accuracy: 0.218633 val accuracy: 0.220000\n",
      "best validation accuracy achieved during cross-validation: 0.403000\n"
     ]
    }
   ],
   "source": [
    "# Use the validation set to tune hyperparameters (regularization strength and\n",
    "# learning rate). You should experiment with different ranges for the learning\n",
    "# rates and regularization strengths; if you are careful you should be able to\n",
    "# get a classification accuracy of over 0.35 on the validation set.\n",
    "from cs231n.classifiers import Softmax\n",
    "import itertools\n",
    "results = {}\n",
    "best_val = -1\n",
    "best_softmax = None\n",
    "learning_rates = [5e-8, 1e-7,2e-7, 5e-7, 1e-6]\n",
    "regularization_strengths = [1e3, 1e4, 2.5e4, 5e4, 1e5, 5e5, 1e6]\n",
    "\n",
    "################################################################################\n",
    "# TODO:                                                                        #\n",
    "# Use the validation set to set the learning rate and regularization strength. #\n",
    "# This should be identical to the validation that you did for the SVM; save    #\n",
    "# the best trained softmax classifer in best_softmax.                          #\n",
    "################################################################################\n",
    "for p in itertools.product(learning_rates, regularization_strengths):\n",
    "    softmax = Softmax()\n",
    "    l_r, reg = p \n",
    "    loss_hist = softmax.train(X_train, y_train, learning_rate=l_r, reg=reg,num_iters=2000, verbose=False)\n",
    "    y_train_pred = softmax.predict(X_train)\n",
    "    y_val_pred = softmax.predict(X_val)\n",
    "    train_accuracy = np.mean(y_train == y_train_pred)\n",
    "    print('training accuracy : %f' % (train_accuracy))\n",
    "    val_accuracy = np.mean(y_val == y_val_pred)\n",
    "    print('validation accuracy : %f' % (val_accuracy))\n",
    "    results[(l_r, reg)] = (train_accuracy, val_accuracy)\n",
    "    if val_accuracy > best_val:\n",
    "        best_val = val_accuracy\n",
    "        best_softmax = softmax\n",
    "################################################################################\n",
    "#                              END OF YOUR CODE                                #\n",
    "################################################################################\n",
    "    \n",
    "# Print out results.\n",
    "for lr, reg in sorted(results):\n",
    "    train_accuracy, val_accuracy = results[(lr, reg)]\n",
    "    print('lr %e reg %e train accuracy: %f val accuracy: %f' % (\n",
    "                lr, reg, train_accuracy, val_accuracy))\n",
    "    \n",
    "print('best validation accuracy achieved during cross-validation: %f' % best_val)"
   ]
  },
  {
   "cell_type": "code",
   "execution_count": 28,
   "metadata": {},
   "outputs": [
    {
     "name": "stdout",
     "output_type": "stream",
     "text": [
      "softmax on raw pixels final test set accuracy: 0.388000\n"
     ]
    }
   ],
   "source": [
    "# evaluate on test set\n",
    "# Evaluate the best softmax on test set\n",
    "y_test_pred = best_softmax.predict(X_test)\n",
    "test_accuracy = np.mean(y_test == y_test_pred)\n",
    "print('softmax on raw pixels final test set accuracy: %f' % (test_accuracy, ))"
   ]
  },
  {
   "cell_type": "markdown",
   "metadata": {},
   "source": [
    "**Inline Question** - *True or False*\n",
    "\n",
    "It's possible to add a new datapoint to a training set that would leave the SVM loss unchanged, but this is not the case with the Softmax classifier loss.\n",
    "\n",
    "*Your answer*: true\n",
    "\n",
    "*Your explanation*: for svm, as long as the datapoint is away from the margin, it wont affec the loss. But for softmax, the new datapoint will dillut the probabilty so the loss will change. "
   ]
  },
  {
   "cell_type": "code",
   "execution_count": 29,
   "metadata": {},
   "outputs": [
    {
     "data": {
      "image/png": "[encoded data removed]",
      "text/plain": [
       "<Figure size 432x288 with 10 Axes>"
      ]
     },
     "metadata": {
      "needs_background": "light"
     },
     "output_type": "display_data"
    }
   ],
   "source": [
    "# Visualize the learned weights for each class\n",
    "w = best_softmax.W[:-1,:] # strip out the bias\n",
    "w = w.reshape(32, 32, 3, 10)\n",
    "\n",
    "w_min, w_max = np.min(w), np.max(w)\n",
    "\n",
    "classes = ['plane', 'car', 'bird', 'cat', 'deer', 'dog', 'frog', 'horse', 'ship', 'truck']\n",
    "for i in range(10):\n",
    "    plt.subplot(2, 5, i + 1)\n",
    "    \n",
    "    # Rescale the weights to be between 0 and 255\n",
    "    wimg = 255.0 * (w[:, :, :, i].squeeze() - w_min) / (w_max - w_min)\n",
    "    plt.imshow(wimg.astype('uint8'))\n",
    "    plt.axis('off')\n",
    "    plt.title(classes[i])"
   ]
  },
  {
   "cell_type": "code",
   "execution_count": null,
   "metadata": {},
   "outputs": [],
   "source": []
  }
 ],
 "metadata": {
  "kernelspec": {
   "display_name": "Python 3",
   "language": "python",
   "name": "python3"
  },
  "language_info": {
   "codemirror_mode": {
    "name": "ipython",
    "version": 3
   },
   "file_extension": ".py",
   "mimetype": "text/x-python",
   "name": "python",
   "nbconvert_exporter": "python",
   "pygments_lexer": "ipython3",
   "version": "3.7.0"
  }
 },
 "nbformat": 4,
 "nbformat_minor": 1
}
